{
 "cells": [
  {
   "cell_type": "markdown",
   "id": "f240f85d",
   "metadata": {},
   "source": [
    "# Pandas Data Cleaning Problems\n",
    "\n",
    "**How to use functionality to clean-up datasets**"
   ]
  },
  {
   "cell_type": "code",
   "execution_count": 14,
   "id": "fec4d2c1",
   "metadata": {},
   "outputs": [],
   "source": [
    "# Import Libraries\n",
    "import pandas as pd\n",
    "from datasets import load_dataset\n",
    "import matplotlib.pyplot as plt\n",
    "\n",
    "# Load Data\n",
    "dataset = load_dataset('lukebarousse/data_jobs')\n",
    "df = dataset['train'].to_pandas()\n",
    "\n",
    "# Data Cleanup (to convert job_posted_date to datetime)\n",
    "df['job_posted_date'] = pd.to_datetime(df['job_posted_date'])"
   ]
  },
  {
   "cell_type": "markdown",
   "id": "9bfcd9d3",
   "metadata": {},
   "source": [
    "## Remove Rows with Missing Values (2.2.1) - Problem\n",
    "\n",
    "Remove rows where the **salary_year_avg** column has missing values. Display the number of rows before and after removing.\n",
    "\n",
    "Hint:\n",
    "Use the **df.dropna()** function with the **subset** parameter set to **salary_year_avg**."
   ]
  },
  {
   "cell_type": "code",
   "execution_count": 15,
   "id": "3d09e2a4",
   "metadata": {},
   "outputs": [
    {
     "name": "stdout",
     "output_type": "stream",
     "text": [
      "Original dataframe: 785741\n",
      "New dataframe: 22003\n"
     ]
    }
   ],
   "source": [
    "\n",
    "# Alternatively: \n",
    "# df_no_na = df['salary_year_avg'].dropna()\n",
    "# print('Original dataframe:', len(df))\n",
    "# print('New dataframe:', len(df_no_na))\n",
    "\n",
    "rows_before = len(df)\n",
    "df_cleaned = df.dropna(subset=['salary_year_avg'])\n",
    "rows_after = len(df_cleaned)\n",
    "print('Original dataframe:', rows_before)\n",
    "print('New dataframe:', rows_after)"
   ]
  },
  {
   "cell_type": "code",
   "execution_count": 16,
   "id": "d336dc62",
   "metadata": {},
   "outputs": [
    {
     "data": {
      "text/plain": [
       "45.97999954223633"
      ]
     },
     "execution_count": 16,
     "metadata": {},
     "output_type": "execute_result"
    }
   ],
   "source": [
    "median_salary_hour = df['salary_hour_avg'].median()\n",
    "median_salary_hour"
   ]
  },
  {
   "cell_type": "markdown",
   "id": "75534105",
   "metadata": {},
   "source": [
    "## Remove Duplicate Rows (2.2.2) - Problem\n",
    "\n",
    "Remove duplicate rows from the DataFrame based on the **job_location** column. Display the number of rows before and after removing duplicates.\n",
    "\n",
    "Hint:\n",
    "\n",
    "Use the **df.drop_duplicates()** function with the **subset** parameter set to **job_location**."
   ]
  },
  {
   "cell_type": "code",
   "execution_count": 17,
   "id": "91b66211",
   "metadata": {},
   "outputs": [
    {
     "name": "stdout",
     "output_type": "stream",
     "text": [
      "Original dataframe: 785741\n",
      "New dataframe: 17218\n"
     ]
    }
   ],
   "source": [
    "rows_before = len(df)\n",
    "df_clean_loc = df.drop_duplicates(subset=['job_location'])\n",
    "rows_after = len(df_clean_loc)\n",
    "print('Original dataframe:', rows_before)\n",
    "print('New dataframe:', rows_after)"
   ]
  },
  {
   "cell_type": "code",
   "execution_count": 18,
   "id": "1d4ef3e2",
   "metadata": {},
   "outputs": [
    {
     "data": {
      "text/plain": [
       "(785741, 17218)"
      ]
     },
     "execution_count": 18,
     "metadata": {},
     "output_type": "execute_result"
    }
   ],
   "source": [
    "# Alternatively:\n",
    "rows_before = len(df)\n",
    "df_unique = df.drop_duplicates(subset=['job_location'])\n",
    "rows_after = df_unique.shape[0]\n",
    "rows_before, rows_after"
   ]
  },
  {
   "cell_type": "markdown",
   "id": "b0849c90",
   "metadata": {},
   "source": [
    "## Fill Missing Values in Column (2.2.3) - Problem\n",
    "\n",
    "Fill missing values in the **salary_rate** column with the string 'Unknown'. Display the first 10 rows of the **salary_rate** column before and after filling.\n",
    "\n",
    "Hint:\n",
    "\n",
    "Use the **df.fillna()** function with the **value** parameter set to 'Unknown'."
   ]
  },
  {
   "cell_type": "code",
   "execution_count": 21,
   "id": "6273f546",
   "metadata": {},
   "outputs": [
    {
     "name": "stdout",
     "output_type": "stream",
     "text": [
      "Before filling: 0    None\n",
      "1    None\n",
      "2    None\n",
      "3    None\n",
      "4    None\n",
      "5    None\n",
      "6    None\n",
      "7    None\n",
      "8    None\n",
      "9    None\n",
      "Name: salary_rate, dtype: object\n",
      "After filling 0    Unknown\n",
      "1    Unknown\n",
      "2    Unknown\n",
      "3    Unknown\n",
      "4    Unknown\n",
      "5    Unknown\n",
      "6    Unknown\n",
      "7    Unknown\n",
      "8    Unknown\n",
      "9    Unknown\n",
      "Name: salary_rate, dtype: object\n"
     ]
    }
   ],
   "source": [
    "before_filling = df['salary_rate'].head(10)\n",
    "df_unknown = df.fillna({'salary_rate': 'Unknown'}) \n",
    "after_filling = df_unknown['salary_rate'].head(10)\n",
    "print('Before filling:', before_filling)\n",
    "print('After filling', after_filling)"
   ]
  }
 ],
 "metadata": {
  "kernelspec": {
   "display_name": "python_env_course",
   "language": "python",
   "name": "python3"
  },
  "language_info": {
   "codemirror_mode": {
    "name": "ipython",
    "version": 3
   },
   "file_extension": ".py",
   "mimetype": "text/x-python",
   "name": "python",
   "nbconvert_exporter": "python",
   "pygments_lexer": "ipython3",
   "version": "3.12.9"
  }
 },
 "nbformat": 4,
 "nbformat_minor": 5
}
