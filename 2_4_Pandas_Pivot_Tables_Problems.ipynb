{
 "cells": [
  {
   "cell_type": "markdown",
   "id": "592180a5",
   "metadata": {},
   "source": [
    "# Pandas Pivot Tables Problems\n",
    "\n",
    "**df_pivot_table()**"
   ]
  },
  {
   "cell_type": "code",
   "execution_count": 1,
   "id": "fec4d2c1",
   "metadata": {},
   "outputs": [],
   "source": [
    "# Import Libraries\n",
    "import pandas as pd\n",
    "from datasets import load_dataset\n",
    "import matplotlib.pyplot as plt\n",
    "\n",
    "# Load Data\n",
    "dataset = load_dataset('lukebarousse/data_jobs')\n",
    "df = dataset['train'].to_pandas()\n",
    "\n",
    "# Data Cleanup (to convert job_posted_date to datetime)\n",
    "df['job_posted_date'] = pd.to_datetime(df['job_posted_date'])"
   ]
  },
  {
   "cell_type": "markdown",
   "id": "9bfcd9d3",
   "metadata": {},
   "source": [
    "## Count Job Postings by Title and Country (2.4.1) - Problem\n",
    "\n",
    "Create a pivot table to count the number of job postings for each **job_title_short** and **job_country**. Display the first 10 rows of the resulting pivot table.\n",
    "\n",
    "Hint:\n",
    "\n",
    "Use the **pivot_table()** function using the parameters **index** and **aggfunc**."
   ]
  },
  {
   "cell_type": "code",
   "execution_count": 2,
   "id": "3d09e2a4",
   "metadata": {},
   "outputs": [
    {
     "data": {
      "text/plain": [
       "job_title_short   job_country\n",
       "Business Analyst  Afghanistan      4\n",
       "                  Albania         11\n",
       "                  Algeria         21\n",
       "                  Angola           1\n",
       "                  Argentina      453\n",
       "                  Armenia         29\n",
       "                  Australia      928\n",
       "                  Austria        738\n",
       "                  Azerbaijan      16\n",
       "                  Bahamas          5\n",
       "dtype: int64"
      ]
     },
     "execution_count": 2,
     "metadata": {},
     "output_type": "execute_result"
    }
   ],
   "source": [
    "# To list the number of entries for each job title\n",
    "number_of_job_postings = df.pivot_table(index=['job_title_short', 'job_country'], aggfunc='size')\n",
    "number_of_job_postings.head(10)"
   ]
  },
  {
   "cell_type": "markdown",
   "id": "58a5195c",
   "metadata": {},
   "source": [
    "## Salary Stats by Job Title (2.4.2) - Problem\n",
    "\n",
    "Create a pivot table to find the maximum, minimum, and average **salary_year_avg** for each **company_name**. Display the first 5 rows of the resulting pivot table.\n",
    "\n",
    "Hint:\n",
    "Use the **pivot_table()** function with using the parameters **values**, **index**, and **aggfunc**."
   ]
  },
  {
   "cell_type": "code",
   "execution_count": 5,
   "id": "0e76d07f",
   "metadata": {},
   "outputs": [
    {
     "data": {
      "text/html": [
       "<div>\n",
       "<style scoped>\n",
       "    .dataframe tbody tr th:only-of-type {\n",
       "        vertical-align: middle;\n",
       "    }\n",
       "\n",
       "    .dataframe tbody tr th {\n",
       "        vertical-align: top;\n",
       "    }\n",
       "\n",
       "    .dataframe thead tr th {\n",
       "        text-align: left;\n",
       "    }\n",
       "\n",
       "    .dataframe thead tr:last-of-type th {\n",
       "        text-align: right;\n",
       "    }\n",
       "</style>\n",
       "<table border=\"1\" class=\"dataframe\">\n",
       "  <thead>\n",
       "    <tr>\n",
       "      <th></th>\n",
       "      <th>max</th>\n",
       "      <th>min</th>\n",
       "      <th>mean</th>\n",
       "    </tr>\n",
       "    <tr>\n",
       "      <th></th>\n",
       "      <th>salary_year_avg</th>\n",
       "      <th>salary_year_avg</th>\n",
       "      <th>salary_year_avg</th>\n",
       "    </tr>\n",
       "    <tr>\n",
       "      <th>company_name</th>\n",
       "      <th></th>\n",
       "      <th></th>\n",
       "      <th></th>\n",
       "    </tr>\n",
       "  </thead>\n",
       "  <tbody>\n",
       "    <tr>\n",
       "      <th>#twiceasnice Recruiting</th>\n",
       "      <td>120000.000000</td>\n",
       "      <td>61000.000000</td>\n",
       "      <td>77750.000000</td>\n",
       "    </tr>\n",
       "    <tr>\n",
       "      <th>/dev/color</th>\n",
       "      <td>125000.000000</td>\n",
       "      <td>125000.000000</td>\n",
       "      <td>125000.000000</td>\n",
       "    </tr>\n",
       "    <tr>\n",
       "      <th>0nward Select</th>\n",
       "      <td>92500.000000</td>\n",
       "      <td>92500.000000</td>\n",
       "      <td>92500.000000</td>\n",
       "    </tr>\n",
       "    <tr>\n",
       "      <th>1 Point System</th>\n",
       "      <td>137290.484375</td>\n",
       "      <td>137290.484375</td>\n",
       "      <td>137290.484375</td>\n",
       "    </tr>\n",
       "    <tr>\n",
       "      <th>1 Point System LLC.</th>\n",
       "      <td>170000.000000</td>\n",
       "      <td>170000.000000</td>\n",
       "      <td>170000.000000</td>\n",
       "    </tr>\n",
       "  </tbody>\n",
       "</table>\n",
       "</div>"
      ],
      "text/plain": [
       "                                    max             min            mean\n",
       "                        salary_year_avg salary_year_avg salary_year_avg\n",
       "company_name                                                           \n",
       "#twiceasnice Recruiting   120000.000000    61000.000000    77750.000000\n",
       "/dev/color                125000.000000   125000.000000   125000.000000\n",
       "0nward Select              92500.000000    92500.000000    92500.000000\n",
       "1 Point System            137290.484375   137290.484375   137290.484375\n",
       "1 Point System LLC.       170000.000000   170000.000000   170000.000000"
      ]
     },
     "execution_count": 5,
     "metadata": {},
     "output_type": "execute_result"
    }
   ],
   "source": [
    "# to display the median salary_year_avg by job_title_short\n",
    "df_company = df.pivot_table(values='salary_year_avg', index='company_name', aggfunc=['max', 'min','mean'])\n",
    "df_company.head()"
   ]
  },
  {
   "cell_type": "markdown",
   "id": "d0966be8",
   "metadata": {},
   "source": [
    "## Sum Salary by Title and Country (2.4.3) - Problem\n",
    "\n",
    "Create a pivot table to calculate the median of **salary_year_avg** for each **company_name** and **job_country**:\n",
    "\n",
    "- Filter the pivot table to only include 'Data Scientist' roles.\n",
    "- Then filter the pivot table to only include **company_name** with a median **salary_year_avg** greater than 200,000.\n",
    "- Display the first 10 rows of the resulting pivot table.\n",
    "\n",
    "Hint:\n",
    "\n",
    "Filter the DataFrame to only include Data Scientist roles. Use the **pivot_table()** function using the parameters **values**, **index**, and **aggfunc**. Then filter the pivot table using a condition."
   ]
  },
  {
   "cell_type": "code",
   "execution_count": 18,
   "id": "af6da7db",
   "metadata": {},
   "outputs": [
    {
     "data": {
      "text/html": [
       "<div>\n",
       "<style scoped>\n",
       "    .dataframe tbody tr th:only-of-type {\n",
       "        vertical-align: middle;\n",
       "    }\n",
       "\n",
       "    .dataframe tbody tr th {\n",
       "        vertical-align: top;\n",
       "    }\n",
       "\n",
       "    .dataframe thead th {\n",
       "        text-align: right;\n",
       "    }\n",
       "</style>\n",
       "<table border=\"1\" class=\"dataframe\">\n",
       "  <thead>\n",
       "    <tr style=\"text-align: right;\">\n",
       "      <th></th>\n",
       "      <th></th>\n",
       "      <th>salary_year_avg</th>\n",
       "    </tr>\n",
       "    <tr>\n",
       "      <th>company_name</th>\n",
       "      <th>job_country</th>\n",
       "      <th></th>\n",
       "    </tr>\n",
       "  </thead>\n",
       "  <tbody>\n",
       "    <tr>\n",
       "      <th rowspan=\"2\" valign=\"top\">ACT</th>\n",
       "      <th>Sudan</th>\n",
       "      <td>225000.0</td>\n",
       "    </tr>\n",
       "    <tr>\n",
       "      <th>United States</th>\n",
       "      <td>225000.0</td>\n",
       "    </tr>\n",
       "    <tr>\n",
       "      <th>Abbott</th>\n",
       "      <th>United States</th>\n",
       "      <td>204000.0</td>\n",
       "    </tr>\n",
       "    <tr>\n",
       "      <th>Airbnb</th>\n",
       "      <th>United States</th>\n",
       "      <td>212500.0</td>\n",
       "    </tr>\n",
       "    <tr>\n",
       "      <th rowspan=\"2\" valign=\"top\">Airtable</th>\n",
       "      <th>Sudan</th>\n",
       "      <td>215500.0</td>\n",
       "    </tr>\n",
       "    <tr>\n",
       "      <th>United States</th>\n",
       "      <td>233500.0</td>\n",
       "    </tr>\n",
       "    <tr>\n",
       "      <th rowspan=\"2\" valign=\"top\">Algo Capital Group</th>\n",
       "      <th>Sudan</th>\n",
       "      <td>325000.0</td>\n",
       "    </tr>\n",
       "    <tr>\n",
       "      <th>United States</th>\n",
       "      <td>350000.0</td>\n",
       "    </tr>\n",
       "    <tr>\n",
       "      <th>Amadeus Search</th>\n",
       "      <th>United States</th>\n",
       "      <td>232500.0</td>\n",
       "    </tr>\n",
       "    <tr>\n",
       "      <th>Analog Devices, Inc</th>\n",
       "      <th>United States</th>\n",
       "      <td>375000.0</td>\n",
       "    </tr>\n",
       "  </tbody>\n",
       "</table>\n",
       "</div>"
      ],
      "text/plain": [
       "                                   salary_year_avg\n",
       "company_name        job_country                   \n",
       "ACT                 Sudan                 225000.0\n",
       "                    United States         225000.0\n",
       "Abbott              United States         204000.0\n",
       "Airbnb              United States         212500.0\n",
       "Airtable            Sudan                 215500.0\n",
       "                    United States         233500.0\n",
       "Algo Capital Group  Sudan                 325000.0\n",
       "                    United States         350000.0\n",
       "Amadeus Search      United States         232500.0\n",
       "Analog Devices, Inc United States         375000.0"
      ]
     },
     "execution_count": 18,
     "metadata": {},
     "output_type": "execute_result"
    }
   ],
   "source": [
    "# Filter for only Data Scientist jobs\n",
    "df_DS = df[df['job_title_short'] == 'Data Scientist'].copy()\n",
    "\n",
    "# Pivot table creation\n",
    "pivot_table = df_comp_country = df_DS.pivot_table(\n",
    "    values='salary_year_avg', \n",
    "    index=['company_name','job_country'], \n",
    "    aggfunc='median'\n",
    ")\n",
    "filtered_pivot_table = pivot_table[pivot_table['salary_year_avg'] > 200_000]\n",
    "filtered_pivot_table.head(10)"
   ]
  }
 ],
 "metadata": {
  "kernelspec": {
   "display_name": "python_env_course",
   "language": "python",
   "name": "python3"
  },
  "language_info": {
   "codemirror_mode": {
    "name": "ipython",
    "version": 3
   },
   "file_extension": ".py",
   "mimetype": "text/x-python",
   "name": "python",
   "nbconvert_exporter": "python",
   "pygments_lexer": "ipython3",
   "version": "3.12.9"
  }
 },
 "nbformat": 4,
 "nbformat_minor": 5
}
