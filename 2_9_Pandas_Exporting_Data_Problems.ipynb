{
 "cells": [
  {
   "cell_type": "markdown",
   "id": "592180a5",
   "metadata": {},
   "source": [
    "# Pandas Exporting Data Problems\n",
    "\n",
    "**pd.to_excel(), df.to_csv()**"
   ]
  },
  {
   "cell_type": "code",
   "execution_count": 30,
   "id": "fec4d2c1",
   "metadata": {},
   "outputs": [],
   "source": [
    "# Import Libraries\n",
    "import pandas as pd\n",
    "from datasets import load_dataset\n",
    "import matplotlib.pyplot as plt\n",
    "\n",
    "# Load Data\n",
    "dataset = load_dataset('lukebarousse/data_jobs')\n",
    "df = dataset['train'].to_pandas()\n",
    "\n",
    "# Data Cleanup (to convert job_posted_date to datetime)\n",
    "df['job_posted_date'] = pd.to_datetime(df['job_posted_date'])"
   ]
  },
  {
   "cell_type": "markdown",
   "id": "4c915f59",
   "metadata": {},
   "source": [
    "### Export to CSV (2.9.1) - Problem\n",
    "\n",
    "Export the DataFrame to a CSV file named *data_jobs_export.csv* without including the index. Inspect the contents of the CSV exported.\n",
    "\n",
    "Hint:\n",
    "\n",
    "Use the **to_csv()** function with the **index** parameter set to False."
   ]
  },
  {
   "cell_type": "code",
   "execution_count": 31,
   "id": "018f9bd9",
   "metadata": {},
   "outputs": [],
   "source": [
    "# Saving the DataFrame to a CSV file\n",
    "df.to_csv('data_jobs_export.csv', index=False)"
   ]
  },
  {
   "cell_type": "markdown",
   "id": "a1dfe224",
   "metadata": {},
   "source": [
    "### Filter and Export to CSV (2.9.2) - Problem\n",
    "\n",
    "\n",
    "- Filter the DataFrame to include only job postings with 'Data Scientist' in the **job_title_short** column.\n",
    "- Export the filtered DataFrame to a CSV file named **data_scientist_jobs.csv** without including the index.\n",
    "- Inspect that the CSV has been exported with the correct filtered data.\n",
    "\n",
    "Hint:\n",
    "\n",
    "Use the **to_csv()** function with the **index** parameter set to False after filtering the DataFrame using boolean indexing."
   ]
  },
  {
   "cell_type": "code",
   "execution_count": 32,
   "id": "3b00765e",
   "metadata": {},
   "outputs": [],
   "source": [
    "df_DS = df[df['job_title_short'] == 'Data Scientist']\n",
    "df_DS.to_csv('data_scientist_jobs.csv', index=False)"
   ]
  },
  {
   "cell_type": "markdown",
   "id": "2b2eb467",
   "metadata": {},
   "source": [
    "### Export to Excel (2.9.3) - Problem\n",
    "\n",
    "- Filter the DataFrame to include only job postings with 'New York, NY' in the **job_location** column.\n",
    "- Export the filtered DataFrame to an Excel file named **new_york_jobs.xlsx** without including the index.\n",
    "- Display the first 5 rows of the filtered DataFrame to confirm the export.\n",
    "\n",
    "Hint:\n",
    "\n",
    "Use the **to_excel()** function with the **index** parameter set to False. You will need to **conda install openpyxl** library for this."
   ]
  },
  {
   "cell_type": "code",
   "execution_count": 35,
   "id": "79f27608",
   "metadata": {},
   "outputs": [],
   "source": [
    "df_NY = df[df['job_location'] == 'New York, NY']\n",
    "df_NY.to_excel('new_york_jobs.xlsx', index=False)"
   ]
  },
  {
   "cell_type": "code",
   "execution_count": null,
   "id": "38bdd7cc",
   "metadata": {},
   "outputs": [],
   "source": []
  }
 ],
 "metadata": {
  "kernelspec": {
   "display_name": "python_env_course",
   "language": "python",
   "name": "python3"
  },
  "language_info": {
   "codemirror_mode": {
    "name": "ipython",
    "version": 3
   },
   "file_extension": ".py",
   "mimetype": "text/x-python",
   "name": "python",
   "nbconvert_exporter": "python",
   "pygments_lexer": "ipython3",
   "version": "3.12.9"
  }
 },
 "nbformat": 4,
 "nbformat_minor": 5
}
